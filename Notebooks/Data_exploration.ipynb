{
 "cells": [
  {
   "cell_type": "markdown",
   "metadata": {},
   "source": [
    "# Exploración de datos"
   ]
  },
  {
   "cell_type": "markdown",
   "metadata": {},
   "source": [
    "### Bibliotecas"
   ]
  },
  {
   "cell_type": "code",
   "execution_count": 1,
   "metadata": {},
   "outputs": [],
   "source": [
    "import numpy as np\n",
    "import pandas as pd"
   ]
  },
  {
   "cell_type": "markdown",
   "metadata": {},
   "source": [
    "### Carga del dataset"
   ]
  },
  {
   "cell_type": "code",
   "execution_count": 3,
   "metadata": {},
   "outputs": [
    {
     "name": "stderr",
     "output_type": "stream",
     "text": [
      "b'Skipping line 821: expected 40 fields, saw 41\\nSkipping line 6060: expected 40 fields, saw 41\\nSkipping line 6663: expected 40 fields, saw 41\\n'\n"
     ]
    }
   ],
   "source": [
    "# Cambia el path del archivo para correr este notebook en tu computadora #\n",
    "FILE_PATH = \"/home/german/Escritorio/cellphones system/Data/phone_dataset.csv\"\n",
    "df = pd.read_csv(FILE_PATH, encoding='utf-8', error_bad_lines=False)"
   ]
  },
  {
   "cell_type": "code",
   "execution_count": 5,
   "metadata": {},
   "outputs": [
    {
     "data": {
      "text/html": [
       "<div>\n",
       "<style scoped>\n",
       "    .dataframe tbody tr th:only-of-type {\n",
       "        vertical-align: middle;\n",
       "    }\n",
       "\n",
       "    .dataframe tbody tr th {\n",
       "        vertical-align: top;\n",
       "    }\n",
       "\n",
       "    .dataframe thead th {\n",
       "        text-align: right;\n",
       "    }\n",
       "</style>\n",
       "<table border=\"1\" class=\"dataframe\">\n",
       "  <thead>\n",
       "    <tr style=\"text-align: right;\">\n",
       "      <th></th>\n",
       "      <th>brand</th>\n",
       "      <th>model</th>\n",
       "      <th>network_technology</th>\n",
       "      <th>2G_bands</th>\n",
       "      <th>3G_bands</th>\n",
       "      <th>4G_bands</th>\n",
       "      <th>network_speed</th>\n",
       "      <th>GPRS</th>\n",
       "      <th>EDGE</th>\n",
       "      <th>announced</th>\n",
       "      <th>...</th>\n",
       "      <th>bluetooth</th>\n",
       "      <th>GPS</th>\n",
       "      <th>NFC</th>\n",
       "      <th>radio</th>\n",
       "      <th>USB</th>\n",
       "      <th>sensors</th>\n",
       "      <th>battery</th>\n",
       "      <th>colors</th>\n",
       "      <th>approx_price_EUR</th>\n",
       "      <th>img_url</th>\n",
       "    </tr>\n",
       "  </thead>\n",
       "  <tbody>\n",
       "    <tr>\n",
       "      <th>0</th>\n",
       "      <td>Acer</td>\n",
       "      <td>Iconia Talk S</td>\n",
       "      <td>GSM / HSPA / LTE</td>\n",
       "      <td>GSM 850 / 900 / 1800 / 1900 - SIM 1 &amp; SIM 2</td>\n",
       "      <td>HSDPA 850 / 1900 / 2100</td>\n",
       "      <td>LTE band 1(2100)| 3(1800)| 7(2600)| 8(900)| 20...</td>\n",
       "      <td>HSPA 42.2/11.5 Mbps  LTE Cat4 150/50 Mbps</td>\n",
       "      <td>Yes</td>\n",
       "      <td>Yes</td>\n",
       "      <td>2016  August</td>\n",
       "      <td>...</td>\n",
       "      <td>4.0| A2DP</td>\n",
       "      <td>Yes with A-GPS GLONASS</td>\n",
       "      <td>NaN</td>\n",
       "      <td>FM radio</td>\n",
       "      <td>microUSB 2.0</td>\n",
       "      <td>Accelerometer| proximity</td>\n",
       "      <td>Non-removable Li-Ion 3400 mAh battery (12.92 Wh)</td>\n",
       "      <td>Black</td>\n",
       "      <td>170.0</td>\n",
       "      <td>http://cdn2.gsmarena.com/vv/bigpic/acer-iconia...</td>\n",
       "    </tr>\n",
       "    <tr>\n",
       "      <th>1</th>\n",
       "      <td>Acer</td>\n",
       "      <td>Liquid Z6 Plus</td>\n",
       "      <td>GSM / HSPA / LTE</td>\n",
       "      <td>GSM 850 / 900 / 1800 / 1900 - SIM 1 &amp; SIM 2 (d...</td>\n",
       "      <td>HSDPA</td>\n",
       "      <td>LTE</td>\n",
       "      <td>HSPA 42.2/5.76 Mbps  LTE Cat4 150/50 Mbps</td>\n",
       "      <td>Yes</td>\n",
       "      <td>Yes</td>\n",
       "      <td>2016  August</td>\n",
       "      <td>...</td>\n",
       "      <td>4.0| A2DP</td>\n",
       "      <td>Yes with A-GPS</td>\n",
       "      <td>NaN</td>\n",
       "      <td>FM radio</td>\n",
       "      <td>microUSB 2.0</td>\n",
       "      <td>Fingerprint (front-mounted)| accelerometer| pr...</td>\n",
       "      <td>Removable Li-Po 4080 mAh battery</td>\n",
       "      <td>Black| White</td>\n",
       "      <td>250.0</td>\n",
       "      <td>http://cdn2.gsmarena.com/vv/bigpic/acer-liquid...</td>\n",
       "    </tr>\n",
       "    <tr>\n",
       "      <th>2</th>\n",
       "      <td>Acer</td>\n",
       "      <td>Liquid Z6</td>\n",
       "      <td>GSM / HSPA / LTE</td>\n",
       "      <td>GSM 850 / 900 / 1800 / 1900 - SIM 1 &amp; SIM 2 (d...</td>\n",
       "      <td>HSDPA</td>\n",
       "      <td>LTE</td>\n",
       "      <td>HSPA  LTE</td>\n",
       "      <td>Yes</td>\n",
       "      <td>Yes</td>\n",
       "      <td>2016  August</td>\n",
       "      <td>...</td>\n",
       "      <td>Yes</td>\n",
       "      <td>Yes with A-GPS</td>\n",
       "      <td>NaN</td>\n",
       "      <td>FM radio</td>\n",
       "      <td>microUSB 2.0</td>\n",
       "      <td>Accelerometer| proximity</td>\n",
       "      <td>Removable Li-Ion 2000 mAh battery</td>\n",
       "      <td>Black| White</td>\n",
       "      <td>120.0</td>\n",
       "      <td>http://cdn2.gsmarena.com/vv/bigpic/acer-liquid...</td>\n",
       "    </tr>\n",
       "    <tr>\n",
       "      <th>3</th>\n",
       "      <td>Acer</td>\n",
       "      <td>Iconia Tab 10 A3-A40</td>\n",
       "      <td>No cellular connectivity</td>\n",
       "      <td>N/A</td>\n",
       "      <td>NaN</td>\n",
       "      <td>NaN</td>\n",
       "      <td>NaN</td>\n",
       "      <td>No</td>\n",
       "      <td>No</td>\n",
       "      <td>2016  April</td>\n",
       "      <td>...</td>\n",
       "      <td>Yes</td>\n",
       "      <td>NaN</td>\n",
       "      <td>NaN</td>\n",
       "      <td>No</td>\n",
       "      <td>microUSB 2.0</td>\n",
       "      <td>Accelerometer</td>\n",
       "      <td>Non-removable Li-Ion battery</td>\n",
       "      <td>Black</td>\n",
       "      <td>230.0</td>\n",
       "      <td>http://cdn2.gsmarena.com/vv/bigpic/acer-iconia...</td>\n",
       "    </tr>\n",
       "    <tr>\n",
       "      <th>4</th>\n",
       "      <td>Acer</td>\n",
       "      <td>Liquid X2</td>\n",
       "      <td>GSM / HSPA / LTE</td>\n",
       "      <td>GSM 850 / 900 / 1800 / 1900</td>\n",
       "      <td>HSDPA 900 / 1900 / 2100 - Europe| Taiwan</td>\n",
       "      <td>LTE 800 / 1800 / 2100 / 2600 - Europe</td>\n",
       "      <td>HSPA 42.2/5.76 Mbps  LTE Cat4 150/50 Mbps</td>\n",
       "      <td>Yes</td>\n",
       "      <td>Yes</td>\n",
       "      <td>2015  April</td>\n",
       "      <td>...</td>\n",
       "      <td>4.0| A2DP| LE</td>\n",
       "      <td>Yes with A-GPS</td>\n",
       "      <td>NaN</td>\n",
       "      <td>FM radio</td>\n",
       "      <td>microUSB 2.0</td>\n",
       "      <td>Accelerometer| proximity| compass</td>\n",
       "      <td>Removable Li-Po 4020 mAh battery</td>\n",
       "      <td>Black| Gold</td>\n",
       "      <td>230.0</td>\n",
       "      <td>http://cdn2.gsmarena.com/vv/bigpic/acer-liquid...</td>\n",
       "    </tr>\n",
       "  </tbody>\n",
       "</table>\n",
       "<p>5 rows × 40 columns</p>\n",
       "</div>"
      ],
      "text/plain": [
       "  brand                 model        network_technology  \\\n",
       "0  Acer         Iconia Talk S          GSM / HSPA / LTE   \n",
       "1  Acer        Liquid Z6 Plus          GSM / HSPA / LTE   \n",
       "2  Acer             Liquid Z6          GSM / HSPA / LTE   \n",
       "3  Acer  Iconia Tab 10 A3-A40  No cellular connectivity   \n",
       "4  Acer             Liquid X2          GSM / HSPA / LTE   \n",
       "\n",
       "                                            2G_bands  \\\n",
       "0        GSM 850 / 900 / 1800 / 1900 - SIM 1 & SIM 2   \n",
       "1  GSM 850 / 900 / 1800 / 1900 - SIM 1 & SIM 2 (d...   \n",
       "2  GSM 850 / 900 / 1800 / 1900 - SIM 1 & SIM 2 (d...   \n",
       "3                                                N/A   \n",
       "4                       GSM 850 / 900 / 1800 / 1900    \n",
       "\n",
       "                                   3G_bands  \\\n",
       "0                  HSDPA 850 / 1900 / 2100    \n",
       "1                                     HSDPA   \n",
       "2                                     HSDPA   \n",
       "3                                       NaN   \n",
       "4  HSDPA 900 / 1900 / 2100 - Europe| Taiwan   \n",
       "\n",
       "                                            4G_bands  \\\n",
       "0  LTE band 1(2100)| 3(1800)| 7(2600)| 8(900)| 20...   \n",
       "1                                                LTE   \n",
       "2                                                LTE   \n",
       "3                                                NaN   \n",
       "4              LTE 800 / 1800 / 2100 / 2600 - Europe   \n",
       "\n",
       "                               network_speed GPRS EDGE     announced  ...  \\\n",
       "0  HSPA 42.2/11.5 Mbps  LTE Cat4 150/50 Mbps  Yes  Yes  2016  August  ...   \n",
       "1  HSPA 42.2/5.76 Mbps  LTE Cat4 150/50 Mbps  Yes  Yes  2016  August  ...   \n",
       "2                                  HSPA  LTE  Yes  Yes  2016  August  ...   \n",
       "3                                        NaN   No   No   2016  April  ...   \n",
       "4  HSPA 42.2/5.76 Mbps  LTE Cat4 150/50 Mbps  Yes  Yes   2015  April  ...   \n",
       "\n",
       "       bluetooth                     GPS  NFC     radio           USB  \\\n",
       "0      4.0| A2DP  Yes with A-GPS GLONASS  NaN  FM radio  microUSB 2.0   \n",
       "1      4.0| A2DP          Yes with A-GPS  NaN  FM radio  microUSB 2.0   \n",
       "2            Yes          Yes with A-GPS  NaN  FM radio  microUSB 2.0   \n",
       "3            Yes                     NaN  NaN        No  microUSB 2.0   \n",
       "4  4.0| A2DP| LE          Yes with A-GPS  NaN  FM radio  microUSB 2.0   \n",
       "\n",
       "                                             sensors  \\\n",
       "0                           Accelerometer| proximity   \n",
       "1  Fingerprint (front-mounted)| accelerometer| pr...   \n",
       "2                           Accelerometer| proximity   \n",
       "3                                      Accelerometer   \n",
       "4                  Accelerometer| proximity| compass   \n",
       "\n",
       "                                            battery        colors  \\\n",
       "0  Non-removable Li-Ion 3400 mAh battery (12.92 Wh)         Black   \n",
       "1                  Removable Li-Po 4080 mAh battery  Black| White   \n",
       "2                 Removable Li-Ion 2000 mAh battery  Black| White   \n",
       "3                      Non-removable Li-Ion battery         Black   \n",
       "4                  Removable Li-Po 4020 mAh battery   Black| Gold   \n",
       "\n",
       "  approx_price_EUR                                            img_url  \n",
       "0            170.0  http://cdn2.gsmarena.com/vv/bigpic/acer-iconia...  \n",
       "1            250.0  http://cdn2.gsmarena.com/vv/bigpic/acer-liquid...  \n",
       "2            120.0  http://cdn2.gsmarena.com/vv/bigpic/acer-liquid...  \n",
       "3            230.0  http://cdn2.gsmarena.com/vv/bigpic/acer-iconia...  \n",
       "4            230.0  http://cdn2.gsmarena.com/vv/bigpic/acer-liquid...  \n",
       "\n",
       "[5 rows x 40 columns]"
      ]
     },
     "execution_count": 5,
     "metadata": {},
     "output_type": "execute_result"
    }
   ],
   "source": [
    "df.head()"
   ]
  },
  {
   "cell_type": "markdown",
   "metadata": {},
   "source": [
    "### Información del dataset"
   ]
  },
  {
   "cell_type": "code",
   "execution_count": 6,
   "metadata": {},
   "outputs": [
    {
     "name": "stdout",
     "output_type": "stream",
     "text": [
      "<class 'pandas.core.frame.DataFrame'>\n",
      "RangeIndex: 8628 entries, 0 to 8627\n",
      "Data columns (total 40 columns):\n",
      " #   Column              Non-Null Count  Dtype  \n",
      "---  ------              --------------  -----  \n",
      " 0   brand               8628 non-null   object \n",
      " 1   model               8628 non-null   object \n",
      " 2   network_technology  8628 non-null   object \n",
      " 3   2G_bands            8628 non-null   object \n",
      " 4   3G_bands            4856 non-null   object \n",
      " 5   4G_bands            1603 non-null   object \n",
      " 6   network_speed       4883 non-null   object \n",
      " 7   GPRS                8596 non-null   object \n",
      " 8   EDGE                8605 non-null   object \n",
      " 9   announced           8613 non-null   object \n",
      " 10  status              8628 non-null   object \n",
      " 11  dimentions          8609 non-null   object \n",
      " 12  weight_g            7679 non-null   object \n",
      " 13  weight_oz           7679 non-null   object \n",
      " 14  SIM                 8627 non-null   object \n",
      " 15  display_type        8624 non-null   object \n",
      " 16  display_resolution  7414 non-null   object \n",
      " 17  display_size        8581 non-null   object \n",
      " 18  OS                  4905 non-null   object \n",
      " 19  CPU                 4834 non-null   object \n",
      " 20  Chipset             3690 non-null   object \n",
      " 21  GPU                 3492 non-null   object \n",
      " 22  memory_card         8628 non-null   object \n",
      " 23  internal_memory     6806 non-null   object \n",
      " 24  RAM                 4656 non-null   object \n",
      " 25  primary_camera      7436 non-null   object \n",
      " 26  secondary_camera    7405 non-null   object \n",
      " 27  loud_speaker        8628 non-null   object \n",
      " 28  audio_jack          8560 non-null   object \n",
      " 29  WLAN                8624 non-null   object \n",
      " 30  bluetooth           8609 non-null   object \n",
      " 31  GPS                 8599 non-null   object \n",
      " 32  NFC                 792 non-null    object \n",
      " 33  radio               8534 non-null   object \n",
      " 34  USB                 7725 non-null   object \n",
      " 35  sensors             4588 non-null   object \n",
      " 36  battery             8626 non-null   object \n",
      " 37  colors              8026 non-null   object \n",
      " 38  approx_price_EUR    5003 non-null   float64\n",
      " 39  img_url             8628 non-null   object \n",
      "dtypes: float64(1), object(39)\n",
      "memory usage: 2.6+ MB\n"
     ]
    }
   ],
   "source": [
    "df.info()"
   ]
  },
  {
   "cell_type": "markdown",
   "metadata": {},
   "source": [
    "#### Número de elementos igual a null por característica"
   ]
  },
  {
   "cell_type": "code",
   "execution_count": 7,
   "metadata": {},
   "outputs": [
    {
     "data": {
      "text/plain": [
       "brand                    0\n",
       "model                    0\n",
       "network_technology       0\n",
       "2G_bands                 0\n",
       "3G_bands              3772\n",
       "4G_bands              7025\n",
       "network_speed         3745\n",
       "GPRS                    32\n",
       "EDGE                    23\n",
       "announced               15\n",
       "status                   0\n",
       "dimentions              19\n",
       "weight_g               949\n",
       "weight_oz              949\n",
       "SIM                      1\n",
       "display_type             4\n",
       "display_resolution    1214\n",
       "display_size            47\n",
       "OS                    3723\n",
       "CPU                   3794\n",
       "Chipset               4938\n",
       "GPU                   5136\n",
       "memory_card              0\n",
       "internal_memory       1822\n",
       "RAM                   3972\n",
       "primary_camera        1192\n",
       "secondary_camera      1223\n",
       "loud_speaker             0\n",
       "audio_jack              68\n",
       "WLAN                     4\n",
       "bluetooth               19\n",
       "GPS                     29\n",
       "NFC                   7836\n",
       "radio                   94\n",
       "USB                    903\n",
       "sensors               4040\n",
       "battery                  2\n",
       "colors                 602\n",
       "approx_price_EUR      3625\n",
       "img_url                  0\n",
       "dtype: int64"
      ]
     },
     "execution_count": 7,
     "metadata": {},
     "output_type": "execute_result"
    }
   ],
   "source": [
    "df.isnull().sum()"
   ]
  },
  {
   "cell_type": "markdown",
   "metadata": {},
   "source": [
    "#### Número de valores únicos por categoria"
   ]
  },
  {
   "cell_type": "code",
   "execution_count": 8,
   "metadata": {},
   "outputs": [
    {
     "data": {
      "text/plain": [
       "brand                  108\n",
       "model                 8273\n",
       "network_technology      38\n",
       "2G_bands               209\n",
       "3G_bands               579\n",
       "4G_bands               626\n",
       "network_speed          195\n",
       "GPRS                    53\n",
       "EDGE                    51\n",
       "announced              713\n",
       "status                 135\n",
       "dimentions            6607\n",
       "weight_g               895\n",
       "weight_oz              386\n",
       "SIM                     85\n",
       "display_type           233\n",
       "display_resolution    2978\n",
       "display_size           861\n",
       "OS                     550\n",
       "CPU                    556\n",
       "Chipset                536\n",
       "GPU                    138\n",
       "memory_card            203\n",
       "internal_memory        395\n",
       "RAM                    209\n",
       "primary_camera         671\n",
       "secondary_camera       368\n",
       "loud_speaker            18\n",
       "audio_jack               5\n",
       "WLAN                   173\n",
       "bluetooth              110\n",
       "GPS                     94\n",
       "NFC                     49\n",
       "radio                   97\n",
       "USB                    101\n",
       "sensors                113\n",
       "battery               1048\n",
       "colors                2612\n",
       "approx_price_EUR       109\n",
       "img_url               8346\n",
       "dtype: int64"
      ]
     },
     "execution_count": 8,
     "metadata": {},
     "output_type": "execute_result"
    }
   ],
   "source": [
    "df.nunique()"
   ]
  },
  {
   "cell_type": "markdown",
   "metadata": {},
   "source": [
    "### Caracteristicas a considerar"
   ]
  },
  {
   "cell_type": "markdown",
   "metadata": {},
   "source": [
    "De acuerdo con las especificaciones del proyecto, las caracteristicas a tomar en cuenta son: Marca, Procesador, Memoria, Cámara, Bateria y precio. Con base en lo anterior, y la información proporcionada en el dataset, las características a considerar del conjunto de datos, son:\n",
    "* brand\n",
    "* model\n",
    "* CPU\n",
    "* GPU\n",
    "* internal memory\n",
    "* RAM\n",
    "* primary_camera\n",
    "* secondary_camera\n",
    "* Battery\n",
    "* aprox_price_EUR"
   ]
  },
  {
   "cell_type": "markdown",
   "metadata": {},
   "source": [
    "### Conteo y visualización de valores de cada característica"
   ]
  },
  {
   "cell_type": "markdown",
   "metadata": {},
   "source": [
    "#### Marca y modelo"
   ]
  },
  {
   "cell_type": "code",
   "execution_count": 15,
   "metadata": {},
   "outputs": [
    {
     "data": {
      "text/plain": [
       "Samsung            1103\n",
       "LG                  591\n",
       "Nokia               446\n",
       "Motorola            443\n",
       "alcatel             360\n",
       "                   ... \n",
       "Google                3\n",
       "Neonode               3\n",
       "Fujitsu Siemens       2\n",
       "Yota                  2\n",
       "Thuraya               1\n",
       "Name: brand, Length: 108, dtype: int64"
      ]
     },
     "execution_count": 15,
     "metadata": {},
     "output_type": "execute_result"
    }
   ],
   "source": [
    "df['brand'].value_counts()"
   ]
  },
  {
   "cell_type": "code",
   "execution_count": 16,
   "metadata": {},
   "outputs": [
    {
     "data": {
      "text/plain": [
       "A200           5\n",
       "X500           5\n",
       "A10            5\n",
       "M600           4\n",
       "A100           4\n",
       "              ..\n",
       "Honor Bee      1\n",
       "OT 757         1\n",
       "Xenium X700    1\n",
       "s758           1\n",
       "Groove X501    1\n",
       "Name: model, Length: 8273, dtype: int64"
      ]
     },
     "execution_count": 16,
     "metadata": {},
     "output_type": "execute_result"
    }
   ],
   "source": [
    "df['model'].value_counts()"
   ]
  },
  {
   "cell_type": "markdown",
   "metadata": {},
   "source": [
    "#### Procesador"
   ]
  },
  {
   "cell_type": "code",
   "execution_count": 17,
   "metadata": {},
   "outputs": [
    {
     "data": {
      "text/plain": [
       "Quad-core 1.3 GHz Cortex-A7                                                  365\n",
       "Quad-core 1.2 GHz Cortex-A7                                                  285\n",
       "Dual-core 1.0 GHz Cortex-A9                                                  125\n",
       "Quad-core 1.2 GHz Cortex-A53                                                 118\n",
       "Quad-core 1.2 GHz                                                            117\n",
       "                                                                            ... \n",
       "Octa-core (4x1.7 GHz Cortex-A15 & 4x1.3 GHz Cortex-A7)                         1\n",
       "468 MHz                                                                        1\n",
       "Quad-core (2x2.35 GHz Kryo & 2x2.19 GHz Kryo)                                  1\n",
       "Deca-core (2x2.3GHz Cortex-A72| 4x1.9GHz Cortex-A53| 4x1.4GHz Cortex-A53)      1\n",
       "806 MHz Tavor MG1                                                              1\n",
       "Name: CPU, Length: 556, dtype: int64"
      ]
     },
     "execution_count": 17,
     "metadata": {},
     "output_type": "execute_result"
    }
   ],
   "source": [
    "df['CPU'].value_counts()"
   ]
  },
  {
   "cell_type": "code",
   "execution_count": 18,
   "metadata": {},
   "outputs": [
    {
     "data": {
      "text/plain": [
       "Mali-400                          401\n",
       "Mali-400MP2                       295\n",
       "Adreno 200                        184\n",
       "Adreno 305                        182\n",
       "Mali-T720MP2                      134\n",
       "                                 ... \n",
       "Mali-T604 MP4                       1\n",
       "Mali-T624MP4                        1\n",
       "Adreno 530 - G9350                  1\n",
       "Mali-T720MP4                        1\n",
       "Mali-T880 MP10 - 64 GB version      1\n",
       "Name: GPU, Length: 138, dtype: int64"
      ]
     },
     "execution_count": 18,
     "metadata": {},
     "output_type": "execute_result"
    }
   ],
   "source": [
    "df['GPU'].value_counts()"
   ]
  },
  {
   "cell_type": "markdown",
   "metadata": {},
   "source": [
    "#### Memoria"
   ]
  },
  {
   "cell_type": "code",
   "execution_count": 20,
   "metadata": {},
   "outputs": [
    {
     "data": {
      "text/plain": [
       "8 GB                            919\n",
       "4 GB                            902\n",
       "16 GB                           815\n",
       "32 GB                           290\n",
       "512 MB                          271\n",
       "                               ... \n",
       "2.5 GB                            1\n",
       "351 KB                            1\n",
       "115 MB                            1\n",
       "40/80 GB (microdrive)             1\n",
       "16 GB (14 GB user available)      1\n",
       "Name: internal_memory, Length: 395, dtype: int64"
      ]
     },
     "execution_count": 20,
     "metadata": {},
     "output_type": "execute_result"
    }
   ],
   "source": [
    "df['internal_memory'].value_counts()"
   ]
  },
  {
   "cell_type": "code",
   "execution_count": 21,
   "metadata": {},
   "outputs": [
    {
     "data": {
      "text/plain": [
       "1 GB RAM               1449\n",
       "512 MB RAM              862\n",
       "2 GB RAM                618\n",
       "3 GB RAM                267\n",
       "256 MB RAM              241\n",
       "                       ... \n",
       "3/4 GB                    1\n",
       "4 MB                      1\n",
       "GB| 2 GB RAM              1\n",
       "256 GB RAM                1\n",
       "4 MB RAM| 32 MB ROM       1\n",
       "Name: RAM, Length: 209, dtype: int64"
      ]
     },
     "execution_count": 21,
     "metadata": {},
     "output_type": "execute_result"
    }
   ],
   "source": [
    "df['RAM'].value_counts()"
   ]
  },
  {
   "cell_type": "markdown",
   "metadata": {},
   "source": [
    "#### Camara"
   ]
  },
  {
   "cell_type": "code",
   "execution_count": 22,
   "metadata": {},
   "outputs": [
    {
     "data": {
      "text/plain": [
       "2 MP                                                                788\n",
       "VGA                                                                 753\n",
       "8 MP| autofocus| LED flash                                          654\n",
       "1.3 MP                                                              617\n",
       "5 MP| autofocus| LED flash                                          609\n",
       "                                                                   ... \n",
       "5 MP| f/2.4|                                                          1\n",
       "13 MP| f/1.8| laser autofocus| OIS| dual-LED (dual tone) flash|       1\n",
       "13 MP| f/1.8| autofocus| dual-LED flash                               1\n",
       "3.15 MP| dual-LED flash                                               1\n",
       "1.23 MP| LED flash                                                    1\n",
       "Name: primary_camera, Length: 671, dtype: int64"
      ]
     },
     "execution_count": 22,
     "metadata": {},
     "output_type": "execute_result"
    }
   ],
   "source": [
    "df['primary_camera'].value_counts()"
   ]
  },
  {
   "cell_type": "code",
   "execution_count": 23,
   "metadata": {},
   "outputs": [
    {
     "data": {
      "text/plain": [
       "No                                            3263\n",
       "VGA                                            829\n",
       "2 MP                                           592\n",
       "5 MP                                           364\n",
       "Yes                                            304\n",
       "                                              ... \n",
       "5 MP| f/2.0| 27mm| 1080p@30fps                   1\n",
       "2 MP / VGA                                       1\n",
       "Dual 16 MP + 8 MP| f/2.0| 1/3\" sensor size       1\n",
       "2 MP| f/2.4| 27mm| 1080p@30fps                   1\n",
       "13 MP| f/2.0| 27mm| 1080p@30fps                  1\n",
       "Name: secondary_camera, Length: 368, dtype: int64"
      ]
     },
     "execution_count": 23,
     "metadata": {},
     "output_type": "execute_result"
    }
   ],
   "source": [
    "df['secondary_camera'].value_counts()"
   ]
  },
  {
   "cell_type": "markdown",
   "metadata": {},
   "source": [
    "#### Bateria"
   ]
  },
  {
   "cell_type": "code",
   "execution_count": 24,
   "metadata": {},
   "outputs": [
    {
     "data": {
      "text/plain": [
       "Removable Li-Ion battery                720\n",
       "Removable Li-Ion 1000 mAh battery       410\n",
       "Removable Li-Ion 800 mAh battery        323\n",
       "Removable Li-Ion 1500 mAh battery       308\n",
       "Removable Li-Ion 2000 mAh battery       210\n",
       "                                       ... \n",
       "Non-removable Li-Ion battery (25 Wh)      1\n",
       "Li-Ion 2250 mAh battery                   1\n",
       "Removable Li-Po 1820 mAh battery          1\n",
       "Li-Ion 2530 mAh battery                   1\n",
       "Li-Po 1600 mAh battery                    1\n",
       "Name: battery, Length: 1048, dtype: int64"
      ]
     },
     "execution_count": 24,
     "metadata": {},
     "output_type": "execute_result"
    }
   ],
   "source": [
    "df['battery'].value_counts()"
   ]
  },
  {
   "cell_type": "markdown",
   "metadata": {},
   "source": [
    "#### Precio"
   ]
  },
  {
   "cell_type": "code",
   "execution_count": 26,
   "metadata": {},
   "outputs": [
    {
     "data": {
      "text/plain": [
       "70.0      302\n",
       "100.0     278\n",
       "80.0      264\n",
       "120.0     246\n",
       "150.0     241\n",
       "         ... \n",
       "5020.0      1\n",
       "6140.0      1\n",
       "5530.0      1\n",
       "5400.0      1\n",
       "1500.0      1\n",
       "Name: approx_price_EUR, Length: 109, dtype: int64"
      ]
     },
     "execution_count": 26,
     "metadata": {},
     "output_type": "execute_result"
    }
   ],
   "source": [
    "df['approx_price_EUR'].value_counts()"
   ]
  },
  {
   "cell_type": "code",
   "execution_count": null,
   "metadata": {},
   "outputs": [],
   "source": []
  }
 ],
 "metadata": {
  "kernelspec": {
   "display_name": "Python 3",
   "language": "python",
   "name": "python3"
  },
  "language_info": {
   "codemirror_mode": {
    "name": "ipython",
    "version": 3
   },
   "file_extension": ".py",
   "mimetype": "text/x-python",
   "name": "python",
   "nbconvert_exporter": "python",
   "pygments_lexer": "ipython3",
   "version": "3.6.9"
  }
 },
 "nbformat": 4,
 "nbformat_minor": 4
}
