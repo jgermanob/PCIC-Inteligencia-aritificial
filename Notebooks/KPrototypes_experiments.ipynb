{
 "cells": [
  {
   "cell_type": "markdown",
   "metadata": {},
   "source": [
    "# K-prototypes"
   ]
  },
  {
   "cell_type": "code",
   "execution_count": 1,
   "metadata": {},
   "outputs": [],
   "source": [
    "import matplotlib.pyplot as plt\n",
    "from sklearn.cluster import KMeans\n",
    "from sklearn.cluster import DBSCAN\n",
    "from sklearn.metrics import silhouette_score\n",
    "from sklearn.preprocessing import StandardScaler\n",
    "import pandas as pd\n",
    "from sklearn import preprocessing\n",
    "from sklearn.decomposition import PCA\n",
    "from kneed import KneeLocator\n",
    "from sklearn.preprocessing import MinMaxScaler\n",
    "from sklearn.preprocessing import StandardScaler\n",
    "from kmodes.kprototypes import KPrototypes\n",
    "import numpy as np"
   ]
  },
  {
   "cell_type": "code",
   "execution_count": 2,
   "metadata": {},
   "outputs": [],
   "source": [
    "FILE_PATH = \"../Data/numerical_2.csv\""
   ]
  },
  {
   "cell_type": "code",
   "execution_count": 3,
   "metadata": {},
   "outputs": [],
   "source": [
    "df = pd.read_csv(FILE_PATH, encoding='utf-8', error_bad_lines=False)"
   ]
  },
  {
   "cell_type": "code",
   "execution_count": 4,
   "metadata": {},
   "outputs": [],
   "source": [
    "df_proto = df.copy() "
   ]
  },
  {
   "cell_type": "code",
   "execution_count": 5,
   "metadata": {},
   "outputs": [],
   "source": [
    "columns = ['brand', 'OS', 'battery_removable', 'battery_type']\n",
    "encoder = preprocessing.LabelEncoder()\n",
    "df_encoded = df[columns].apply(encoder.fit_transform)\n",
    "df = df.drop(columns, axis=1)\n",
    "df = df.join(df_encoded)"
   ]
  },
  {
   "cell_type": "code",
   "execution_count": 6,
   "metadata": {},
   "outputs": [],
   "source": [
    "features = ['RAM','approx_price_EUR', 'battery_mah', 'CPU_cores', 'CPU_speed',\n",
    "            'internal_memory_gb', 'brand', 'OS', 'battery_removable','battery_type', 'primary_camera_mp', 'secondary_camera_mp']"
   ]
  },
  {
   "cell_type": "code",
   "execution_count": 7,
   "metadata": {},
   "outputs": [],
   "source": [
    "x = df[features]"
   ]
  },
  {
   "cell_type": "code",
   "execution_count": 8,
   "metadata": {},
   "outputs": [
    {
     "data": {
      "text/html": [
       "<div>\n",
       "<style scoped>\n",
       "    .dataframe tbody tr th:only-of-type {\n",
       "        vertical-align: middle;\n",
       "    }\n",
       "\n",
       "    .dataframe tbody tr th {\n",
       "        vertical-align: top;\n",
       "    }\n",
       "\n",
       "    .dataframe thead th {\n",
       "        text-align: right;\n",
       "    }\n",
       "</style>\n",
       "<table border=\"1\" class=\"dataframe\">\n",
       "  <thead>\n",
       "    <tr style=\"text-align: right;\">\n",
       "      <th></th>\n",
       "      <th>RAM</th>\n",
       "      <th>approx_price_EUR</th>\n",
       "      <th>battery_mah</th>\n",
       "      <th>CPU_cores</th>\n",
       "      <th>CPU_speed</th>\n",
       "      <th>internal_memory_gb</th>\n",
       "      <th>brand</th>\n",
       "      <th>OS</th>\n",
       "      <th>battery_removable</th>\n",
       "      <th>battery_type</th>\n",
       "      <th>primary_camera_mp</th>\n",
       "      <th>secondary_camera_mp</th>\n",
       "    </tr>\n",
       "  </thead>\n",
       "  <tbody>\n",
       "    <tr>\n",
       "      <th>0</th>\n",
       "      <td>2.000</td>\n",
       "      <td>170.0</td>\n",
       "      <td>3400.0</td>\n",
       "      <td>4</td>\n",
       "      <td>1.30</td>\n",
       "      <td>32.0</td>\n",
       "      <td>0</td>\n",
       "      <td>0</td>\n",
       "      <td>0</td>\n",
       "      <td>0</td>\n",
       "      <td>13.0</td>\n",
       "      <td>2.0</td>\n",
       "    </tr>\n",
       "    <tr>\n",
       "      <th>1</th>\n",
       "      <td>3.000</td>\n",
       "      <td>250.0</td>\n",
       "      <td>4080.0</td>\n",
       "      <td>8</td>\n",
       "      <td>1.30</td>\n",
       "      <td>32.0</td>\n",
       "      <td>0</td>\n",
       "      <td>0</td>\n",
       "      <td>1</td>\n",
       "      <td>1</td>\n",
       "      <td>13.0</td>\n",
       "      <td>5.0</td>\n",
       "    </tr>\n",
       "    <tr>\n",
       "      <th>2</th>\n",
       "      <td>1.000</td>\n",
       "      <td>120.0</td>\n",
       "      <td>2000.0</td>\n",
       "      <td>4</td>\n",
       "      <td>1.25</td>\n",
       "      <td>8.0</td>\n",
       "      <td>0</td>\n",
       "      <td>0</td>\n",
       "      <td>1</td>\n",
       "      <td>0</td>\n",
       "      <td>8.0</td>\n",
       "      <td>2.0</td>\n",
       "    </tr>\n",
       "    <tr>\n",
       "      <th>3</th>\n",
       "      <td>3.000</td>\n",
       "      <td>230.0</td>\n",
       "      <td>4020.0</td>\n",
       "      <td>8</td>\n",
       "      <td>1.30</td>\n",
       "      <td>32.0</td>\n",
       "      <td>0</td>\n",
       "      <td>0</td>\n",
       "      <td>1</td>\n",
       "      <td>1</td>\n",
       "      <td>13.0</td>\n",
       "      <td>13.0</td>\n",
       "    </tr>\n",
       "    <tr>\n",
       "      <th>4</th>\n",
       "      <td>2.000</td>\n",
       "      <td>200.0</td>\n",
       "      <td>5000.0</td>\n",
       "      <td>4</td>\n",
       "      <td>1.30</td>\n",
       "      <td>16.0</td>\n",
       "      <td>0</td>\n",
       "      <td>0</td>\n",
       "      <td>0</td>\n",
       "      <td>0</td>\n",
       "      <td>13.0</td>\n",
       "      <td>5.0</td>\n",
       "    </tr>\n",
       "    <tr>\n",
       "      <th>...</th>\n",
       "      <td>...</td>\n",
       "      <td>...</td>\n",
       "      <td>...</td>\n",
       "      <td>...</td>\n",
       "      <td>...</td>\n",
       "      <td>...</td>\n",
       "      <td>...</td>\n",
       "      <td>...</td>\n",
       "      <td>...</td>\n",
       "      <td>...</td>\n",
       "      <td>...</td>\n",
       "      <td>...</td>\n",
       "    </tr>\n",
       "    <tr>\n",
       "      <th>1876</th>\n",
       "      <td>1.000</td>\n",
       "      <td>340.0</td>\n",
       "      <td>1900.0</td>\n",
       "      <td>2</td>\n",
       "      <td>1.50</td>\n",
       "      <td>4.0</td>\n",
       "      <td>56</td>\n",
       "      <td>0</td>\n",
       "      <td>1</td>\n",
       "      <td>0</td>\n",
       "      <td>8.0</td>\n",
       "      <td>1.3</td>\n",
       "    </tr>\n",
       "    <tr>\n",
       "      <th>1877</th>\n",
       "      <td>1.000</td>\n",
       "      <td>230.0</td>\n",
       "      <td>1600.0</td>\n",
       "      <td>1</td>\n",
       "      <td>1.00</td>\n",
       "      <td>4.0</td>\n",
       "      <td>56</td>\n",
       "      <td>0</td>\n",
       "      <td>1</td>\n",
       "      <td>0</td>\n",
       "      <td>5.0</td>\n",
       "      <td>0.6</td>\n",
       "    </tr>\n",
       "    <tr>\n",
       "      <th>1878</th>\n",
       "      <td>1.000</td>\n",
       "      <td>230.0</td>\n",
       "      <td>4000.0</td>\n",
       "      <td>2</td>\n",
       "      <td>1.20</td>\n",
       "      <td>16.0</td>\n",
       "      <td>56</td>\n",
       "      <td>0</td>\n",
       "      <td>0</td>\n",
       "      <td>0</td>\n",
       "      <td>5.0</td>\n",
       "      <td>2.0</td>\n",
       "    </tr>\n",
       "    <tr>\n",
       "      <th>1879</th>\n",
       "      <td>0.512</td>\n",
       "      <td>250.0</td>\n",
       "      <td>3400.0</td>\n",
       "      <td>1</td>\n",
       "      <td>1.40</td>\n",
       "      <td>4.0</td>\n",
       "      <td>56</td>\n",
       "      <td>0</td>\n",
       "      <td>0</td>\n",
       "      <td>0</td>\n",
       "      <td>3.2</td>\n",
       "      <td>0.6</td>\n",
       "    </tr>\n",
       "    <tr>\n",
       "      <th>1880</th>\n",
       "      <td>0.512</td>\n",
       "      <td>210.0</td>\n",
       "      <td>1400.0</td>\n",
       "      <td>1</td>\n",
       "      <td>1.00</td>\n",
       "      <td>4.0</td>\n",
       "      <td>56</td>\n",
       "      <td>2</td>\n",
       "      <td>1</td>\n",
       "      <td>0</td>\n",
       "      <td>5.0</td>\n",
       "      <td>0.0</td>\n",
       "    </tr>\n",
       "  </tbody>\n",
       "</table>\n",
       "<p>1881 rows × 12 columns</p>\n",
       "</div>"
      ],
      "text/plain": [
       "        RAM  approx_price_EUR  battery_mah  CPU_cores  CPU_speed  \\\n",
       "0     2.000             170.0       3400.0          4       1.30   \n",
       "1     3.000             250.0       4080.0          8       1.30   \n",
       "2     1.000             120.0       2000.0          4       1.25   \n",
       "3     3.000             230.0       4020.0          8       1.30   \n",
       "4     2.000             200.0       5000.0          4       1.30   \n",
       "...     ...               ...          ...        ...        ...   \n",
       "1876  1.000             340.0       1900.0          2       1.50   \n",
       "1877  1.000             230.0       1600.0          1       1.00   \n",
       "1878  1.000             230.0       4000.0          2       1.20   \n",
       "1879  0.512             250.0       3400.0          1       1.40   \n",
       "1880  0.512             210.0       1400.0          1       1.00   \n",
       "\n",
       "      internal_memory_gb  brand  OS  battery_removable  battery_type  \\\n",
       "0                   32.0      0   0                  0             0   \n",
       "1                   32.0      0   0                  1             1   \n",
       "2                    8.0      0   0                  1             0   \n",
       "3                   32.0      0   0                  1             1   \n",
       "4                   16.0      0   0                  0             0   \n",
       "...                  ...    ...  ..                ...           ...   \n",
       "1876                 4.0     56   0                  1             0   \n",
       "1877                 4.0     56   0                  1             0   \n",
       "1878                16.0     56   0                  0             0   \n",
       "1879                 4.0     56   0                  0             0   \n",
       "1880                 4.0     56   2                  1             0   \n",
       "\n",
       "      primary_camera_mp  secondary_camera_mp  \n",
       "0                  13.0                  2.0  \n",
       "1                  13.0                  5.0  \n",
       "2                   8.0                  2.0  \n",
       "3                  13.0                 13.0  \n",
       "4                  13.0                  5.0  \n",
       "...                 ...                  ...  \n",
       "1876                8.0                  1.3  \n",
       "1877                5.0                  0.6  \n",
       "1878                5.0                  2.0  \n",
       "1879                3.2                  0.6  \n",
       "1880                5.0                  0.0  \n",
       "\n",
       "[1881 rows x 12 columns]"
      ]
     },
     "execution_count": 8,
     "metadata": {},
     "output_type": "execute_result"
    }
   ],
   "source": [
    "x"
   ]
  },
  {
   "cell_type": "code",
   "execution_count": 9,
   "metadata": {},
   "outputs": [],
   "source": [
    "# Función para visualización de clusters #\n",
    "def plot_clusters(data, clustering_model, dim_reduction, title=None):\n",
    "    if dim_reduction == True:\n",
    "        pca = PCA(n_components=2)\n",
    "        X_r = pca.fit(data).transform(data)\n",
    "    \n",
    "    y = clustering_model.labels_\n",
    "    target_names = []\n",
    "    for label in y:\n",
    "        if label not in target_names:\n",
    "            target_names.append(label)\n",
    "    plt.figure(figsize=(20, 10))\n",
    "    lw = 2\n",
    "    colors = ['black', 'turquoise', 'blue', 'RED', 'green', 'darkorange', 'yellow', 'magenta']\n",
    "\n",
    "    for color, i, target_name in zip(colors, target_names, target_names):\n",
    "        plt.scatter(X_r[y == i, 0], X_r[y == i, 1], color=color, alpha=.4, lw=lw, label=target_name)\n",
    "    \n",
    "    plt.legend(loc='best', shadow=False, scatterpoints=1)\n",
    "    plt.title(title)\n",
    "    plt.show()"
   ]
  },
  {
   "cell_type": "code",
   "execution_count": 10,
   "metadata": {},
   "outputs": [],
   "source": [
    "#Función para obtener el número optimo de clusters utilizando el método del codo#\n",
    "def elbow_method(data, cluster_number, clustering_function):\n",
    "    sse = []\n",
    "    for k in range(1, cluster_number):\n",
    "        model = clustering_function(data, k)\n",
    "        sse.append(model.inertia_)\n",
    "    \n",
    "    kl = KneeLocator(range(1,11), sse, curve='convex', direction='decreasing')\n",
    "    \n",
    "    plt.style.use(\"fivethirtyeight\")\n",
    "    plt.plot(range(1, cluster_number), sse)\n",
    "    plt.xticks(range(1, cluster_number))\n",
    "    plt.xlabel(\"Número de clusters\")\n",
    "    plt.ylabel(\"SSE\")\n",
    "    plt.show()\n",
    "    \n",
    "    return kl.elbow"
   ]
  },
  {
   "cell_type": "code",
   "execution_count": 11,
   "metadata": {},
   "outputs": [],
   "source": [
    "# Función para evaluar los clusters creados mediante silhouette coefficient #\n",
    "def plot_silhouette_coefficient(data, cluster_number):\n",
    "    silhouette_coefficients = []\n",
    "    for k in range(2,cluster_number):\n",
    "        model = kmeans_clustering(data, k)\n",
    "        score = silhouette_score(data, model.labels_)\n",
    "        silhouette_coefficients.append(score)\n",
    "    \n",
    "    plt.style.use(\"fivethirtyeight\")\n",
    "    plt.plot(range(2, cluster_number), silhouette_coefficients)\n",
    "    plt.xticks(range(2, cluster_number))\n",
    "    plt.xlabel(\"Numero de clusters\")\n",
    "    plt.ylabel(\"Silhouette Coefficient\")\n",
    "    plt.show()"
   ]
  },
  {
   "cell_type": "code",
   "execution_count": 12,
   "metadata": {},
   "outputs": [],
   "source": [
    "def kprototype_clustering(data, k, categorical_features):\n",
    "    kprototypes = KPrototypes(n_clusters=k, init='Cao')\n",
    "    kprototypes.fit(x, categorical=categorical_features)\n",
    "    return kprototypes\n",
    "    "
   ]
  },
  {
   "cell_type": "code",
   "execution_count": 13,
   "metadata": {},
   "outputs": [],
   "source": [
    "#Función para obtener el valor de silhouette coefficient de un modelo #\n",
    "def silhouette_coefficient(data, clustering_model):\n",
    "    return silhouette_score(data, clustering_model.labels_).round(4)"
   ]
  },
  {
   "cell_type": "code",
   "execution_count": 14,
   "metadata": {},
   "outputs": [],
   "source": [
    "categorical_features = [6,7,8,9]"
   ]
  },
  {
   "cell_type": "code",
   "execution_count": 15,
   "metadata": {},
   "outputs": [],
   "source": [
    "x = x.values"
   ]
  },
  {
   "cell_type": "code",
   "execution_count": 16,
   "metadata": {},
   "outputs": [],
   "source": [
    "model = kprototype_clustering(data=x, k=4, categorical_features=categorical_features)"
   ]
  },
  {
   "cell_type": "code",
   "execution_count": 17,
   "metadata": {},
   "outputs": [
    {
     "data": {
      "image/png": "[encoded data removed]",
      "text/plain": [
       "<Figure size 1440x720 with 1 Axes>"
      ]
     },
     "metadata": {
      "needs_background": "light"
     },
     "output_type": "display_data"
    }
   ],
   "source": [
    "plot_clusters(data=x, clustering_model=model, dim_reduction=True, title=None)"
   ]
  },
  {
   "cell_type": "code",
   "execution_count": 18,
   "metadata": {},
   "outputs": [
    {
     "data": {
      "text/plain": [
       "0.5914"
      ]
     },
     "execution_count": 18,
     "metadata": {},
     "output_type": "execute_result"
    }
   ],
   "source": [
    "silhouette_coefficient(data=x, clustering_model=model)"
   ]
  },
  {
   "cell_type": "code",
   "execution_count": 21,
   "metadata": {},
   "outputs": [
    {
     "data": {
      "image/png": "[encoded data removed]",
      "text/plain": [
       "<Figure size 432x288 with 1 Axes>"
      ]
     },
     "metadata": {},
     "output_type": "display_data"
    }
   ],
   "source": [
    "sse = []\n",
    "cluster_number = 11\n",
    "for k in range(1, cluster_number):\n",
    "    model = kprototype_clustering(data=x, k=k, categorical_features=categorical_features)\n",
    "    sse.append(model.cost_)\n",
    "    \n",
    "kl = KneeLocator(range(1,11), sse, curve='convex', direction='decreasing')\n",
    "    \n",
    "plt.style.use(\"fivethirtyeight\")\n",
    "plt.plot(range(1, cluster_number), sse)\n",
    "plt.xticks(range(1, cluster_number))\n",
    "plt.xlabel(\"Número de clusters\")\n",
    "plt.ylabel(\"SSE\")\n",
    "plt.show()"
   ]
  },
  {
   "cell_type": "code",
   "execution_count": 22,
   "metadata": {},
   "outputs": [
    {
     "data": {
      "text/plain": [
       "4"
      ]
     },
     "execution_count": 22,
     "metadata": {},
     "output_type": "execute_result"
    }
   ],
   "source": [
    "kl.elbow"
   ]
  },
  {
   "cell_type": "code",
   "execution_count": null,
   "metadata": {},
   "outputs": [],
   "source": []
  },
  {
   "cell_type": "code",
   "execution_count": null,
   "metadata": {},
   "outputs": [],
   "source": []
  },
  {
   "cell_type": "code",
   "execution_count": null,
   "metadata": {},
   "outputs": [],
   "source": []
  },
  {
   "cell_type": "code",
   "execution_count": null,
   "metadata": {},
   "outputs": [],
   "source": []
  },
  {
   "cell_type": "code",
   "execution_count": null,
   "metadata": {},
   "outputs": [],
   "source": []
  },
  {
   "cell_type": "markdown",
   "metadata": {},
   "source": [
    "## Experimento 2"
   ]
  },
  {
   "cell_type": "code",
   "execution_count": null,
   "metadata": {},
   "outputs": [],
   "source": [
    "from sklearn.preprocessing import PowerTransformer\n",
    "from sklearn.preprocessing import MinMaxScaler"
   ]
  },
  {
   "cell_type": "code",
   "execution_count": null,
   "metadata": {},
   "outputs": [],
   "source": [
    "df_proto"
   ]
  },
  {
   "cell_type": "code",
   "execution_count": null,
   "metadata": {},
   "outputs": [],
   "source": []
  },
  {
   "cell_type": "code",
   "execution_count": null,
   "metadata": {},
   "outputs": [],
   "source": [
    "features = ['RAM','approx_price_EUR', 'battery_mah', 'CPU_cores', 'CPU_speed',\n",
    "            'internal_memory_gb', 'brand', 'OS', 'battery_removable','battery_type', 'primary_camera_mp', 'secondary_camera_mp']"
   ]
  },
  {
   "cell_type": "code",
   "execution_count": null,
   "metadata": {},
   "outputs": [],
   "source": [
    "x = df_proto[features]"
   ]
  },
  {
   "cell_type": "code",
   "execution_count": null,
   "metadata": {},
   "outputs": [],
   "source": [
    "for c in x.select_dtypes(exclude='object').columns:\n",
    "    pt = MinMaxScaler()\n",
    "    x[c] =  pt.fit_transform(np.array(x[c]).reshape(-1, 1))"
   ]
  },
  {
   "cell_type": "code",
   "execution_count": null,
   "metadata": {},
   "outputs": [],
   "source": []
  },
  {
   "cell_type": "code",
   "execution_count": null,
   "metadata": {},
   "outputs": [],
   "source": [
    "x"
   ]
  },
  {
   "cell_type": "code",
   "execution_count": null,
   "metadata": {},
   "outputs": [],
   "source": [
    "columns = ['brand', 'OS', 'battery_type']\n",
    "encoder = preprocessing.LabelEncoder()\n",
    "df_encoded = x[columns].apply(encoder.fit_transform)\n",
    "x = x.drop(columns, axis=1)\n",
    "\"\"\"\n",
    "df_proto = x.drop(columns, axis=1)\n",
    "df_proto = x.join(df_encoded)\n",
    "\"\"\"\n",
    "x"
   ]
  },
  {
   "cell_type": "code",
   "execution_count": null,
   "metadata": {},
   "outputs": [],
   "source": [
    "x = x.join(df_encoded)"
   ]
  },
  {
   "cell_type": "code",
   "execution_count": null,
   "metadata": {},
   "outputs": [],
   "source": [
    "x"
   ]
  },
  {
   "cell_type": "code",
   "execution_count": null,
   "metadata": {},
   "outputs": [],
   "source": [
    "categorical_columns = [6,9,10,11]"
   ]
  },
  {
   "cell_type": "code",
   "execution_count": null,
   "metadata": {},
   "outputs": [],
   "source": [
    "kproto = KPrototypes(n_clusters= 4, init='Cao', n_jobs = 4)\n",
    "kproto.fit(x, categorical=categorical_columns)"
   ]
  },
  {
   "cell_type": "code",
   "execution_count": null,
   "metadata": {},
   "outputs": [],
   "source": [
    "silhouette_coefficient(data=x, clustering_model=kproto)"
   ]
  },
  {
   "cell_type": "code",
   "execution_count": null,
   "metadata": {},
   "outputs": [],
   "source": [
    "plot_clusters(data=x, clustering_model=kproto, dim_reduction=True, title=None)"
   ]
  },
  {
   "cell_type": "code",
   "execution_count": null,
   "metadata": {},
   "outputs": [],
   "source": []
  },
  {
   "cell_type": "code",
   "execution_count": null,
   "metadata": {},
   "outputs": [],
   "source": []
  }
 ],
 "metadata": {
  "kernelspec": {
   "display_name": "Python 3",
   "language": "python",
   "name": "python3"
  },
  "language_info": {
   "codemirror_mode": {
    "name": "ipython",
    "version": 3
   },
   "file_extension": ".py",
   "mimetype": "text/x-python",
   "name": "python",
   "nbconvert_exporter": "python",
   "pygments_lexer": "ipython3",
   "version": "3.6.9"
  }
 },
 "nbformat": 4,
 "nbformat_minor": 4
}
